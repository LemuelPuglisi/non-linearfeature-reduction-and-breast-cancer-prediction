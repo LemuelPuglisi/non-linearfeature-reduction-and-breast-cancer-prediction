{
 "cells": [
  {
   "cell_type": "markdown",
   "metadata": {},
   "source": [
    "# Riduzione della dimensionalità di dati RNA-Seq\n",
    "I dati molecolari sono estratti attraverso una procedura di sequenziamento dell'RNA chiamata RNA-Seq. I file contenenti i dati molecolari iniziano tutti con la dicitura \"data_RNA_Seq_v2_mRNA_\" e contengono gli stessi dati normalizzati con procedure diverse. Questo perché i dati molecolari possono essere normalizzati in tanti modi e non si sa a priori quale tipologia di normalizzazione funziona meglio per la costruzione dell'autoencoder. Ognuno di questi file contiene una matrice in cui vi è una riga per ogni gene (feature di input) e una colonna per ogni paziente. Le prime due colonne contengono i nomi delle righe in formato diverso. La prima riga contiene i nomi delle colonne (tranne le prime due colonne i restanti nomi sono i codici dei campioni). I codici dei campioni sono sequenze di 15 caratteri. L'unico file che differisce leggermente è il file \"data_RNA_Seq_v2_raw_counts.txt\" che contiene i dati grezzi non normalizzati. In questo caso vale sempre che le righe sono i geni e le colonne sono i pazienti. Ma in questo specifico caso, solo la prima colonna contiene i nomi dei geni. Dalla seconda colonna in poi trovi i singoli campioni. Ogni campione è qui identificato da un codice lungo 28 caratteri, di cui i primi 15 corrispondono al codice del campione analogo a quello indicato negli altri file."
   ]
  },
  {
   "cell_type": "markdown",
   "metadata": {},
   "source": [
    "## Estrazione dei dati dal dataset RNA-Seq\n",
    "\n",
    "Le strutture degli autoencoders sono disponibili nel modulo `autoencoder`. Le scelte architetturali ed implementative sono descritte all'interno della tesi. Prima di tutto, estraiamo i dati dal dataset RNA-Seq attraverso il modulo `ngs`. Utilizzeremo di default il file `data_RNA_Seq_v2_mRNA_median_all_sample_ref_normal_Zscores.txt`, che ha fornito i risultati di compressione migliori. Il metodo `ngs.get_ds()`  restituisce il dataset già preprocessato (attraverso gli step descritti nella tesi)."
   ]
  },
  {
   "cell_type": "code",
   "execution_count": 1,
   "metadata": {},
   "outputs": [
    {
     "name": "stderr",
     "output_type": "stream",
     "text": [
      "C:\\Users\\Charlemagne\\anaconda3\\lib\\site-packages\\requests\\__init__.py:89: RequestsDependencyWarning: urllib3 (1.26.7) or chardet (3.0.4) doesn't match a supported version!\n",
      "  warnings.warn(\"urllib3 ({}) or chardet ({}) doesn't match a supported \"\n"
     ]
    },
    {
     "data": {
      "text/html": [
       "<div>\n",
       "<style scoped>\n",
       "    .dataframe tbody tr th:only-of-type {\n",
       "        vertical-align: middle;\n",
       "    }\n",
       "\n",
       "    .dataframe tbody tr th {\n",
       "        vertical-align: top;\n",
       "    }\n",
       "\n",
       "    .dataframe thead th {\n",
       "        text-align: right;\n",
       "    }\n",
       "</style>\n",
       "<table border=\"1\" class=\"dataframe\">\n",
       "  <thead>\n",
       "    <tr style=\"text-align: right;\">\n",
       "      <th>Entrez_Gene_Id</th>\n",
       "      <th>100133144</th>\n",
       "      <th>100134869</th>\n",
       "      <th>10357</th>\n",
       "      <th>10431</th>\n",
       "      <th>155060</th>\n",
       "      <th>26823</th>\n",
       "      <th>280660</th>\n",
       "      <th>340602</th>\n",
       "      <th>388795</th>\n",
       "      <th>390284</th>\n",
       "      <th>...</th>\n",
       "      <th>55055</th>\n",
       "      <th>11130</th>\n",
       "      <th>7789</th>\n",
       "      <th>158586</th>\n",
       "      <th>79364</th>\n",
       "      <th>440590</th>\n",
       "      <th>79699</th>\n",
       "      <th>7791</th>\n",
       "      <th>23140</th>\n",
       "      <th>26009</th>\n",
       "    </tr>\n",
       "  </thead>\n",
       "  <tbody>\n",
       "    <tr>\n",
       "      <th>TCGA-3C-AAAU-01</th>\n",
       "      <td>1.0625</td>\n",
       "      <td>1.4054</td>\n",
       "      <td>-2.6318</td>\n",
       "      <td>-2.3685</td>\n",
       "      <td>3.9877</td>\n",
       "      <td>-2.1170</td>\n",
       "      <td>-4.3428</td>\n",
       "      <td>1.2983</td>\n",
       "      <td>-1.2612</td>\n",
       "      <td>-0.7965</td>\n",
       "      <td>...</td>\n",
       "      <td>1.9072</td>\n",
       "      <td>3.2236</td>\n",
       "      <td>1.4119</td>\n",
       "      <td>2.6413</td>\n",
       "      <td>1.4366</td>\n",
       "      <td>2.1646</td>\n",
       "      <td>-0.1948</td>\n",
       "      <td>-0.6725</td>\n",
       "      <td>0.2801</td>\n",
       "      <td>0.1443</td>\n",
       "    </tr>\n",
       "    <tr>\n",
       "      <th>TCGA-3C-AALI-01</th>\n",
       "      <td>0.3242</td>\n",
       "      <td>1.8883</td>\n",
       "      <td>-1.1750</td>\n",
       "      <td>-0.9363</td>\n",
       "      <td>2.1972</td>\n",
       "      <td>0.2431</td>\n",
       "      <td>-0.2931</td>\n",
       "      <td>14.2840</td>\n",
       "      <td>1.7157</td>\n",
       "      <td>-2.3744</td>\n",
       "      <td>...</td>\n",
       "      <td>4.8779</td>\n",
       "      <td>3.2788</td>\n",
       "      <td>-1.1521</td>\n",
       "      <td>-0.481</td>\n",
       "      <td>0.3201</td>\n",
       "      <td>1.9051</td>\n",
       "      <td>-2.0915</td>\n",
       "      <td>0.5403</td>\n",
       "      <td>-1.2083</td>\n",
       "      <td>-3.126</td>\n",
       "    </tr>\n",
       "    <tr>\n",
       "      <th>TCGA-3C-AALJ-01</th>\n",
       "      <td>0.6145</td>\n",
       "      <td>0.8671</td>\n",
       "      <td>2.8280</td>\n",
       "      <td>2.9686</td>\n",
       "      <td>2.4923</td>\n",
       "      <td>-2.1170</td>\n",
       "      <td>-4.3428</td>\n",
       "      <td>-1.9741</td>\n",
       "      <td>0.7886</td>\n",
       "      <td>-1.5576</td>\n",
       "      <td>...</td>\n",
       "      <td>1.0158</td>\n",
       "      <td>4.7992</td>\n",
       "      <td>-2.878</td>\n",
       "      <td>0.1908</td>\n",
       "      <td>-2.6322</td>\n",
       "      <td>2.4101</td>\n",
       "      <td>-2.4353</td>\n",
       "      <td>0.5178</td>\n",
       "      <td>-2.5848</td>\n",
       "      <td>-2.435</td>\n",
       "    </tr>\n",
       "    <tr>\n",
       "      <th>TCGA-3C-AALK-01</th>\n",
       "      <td>0.6655</td>\n",
       "      <td>1.1569</td>\n",
       "      <td>2.4738</td>\n",
       "      <td>0.9625</td>\n",
       "      <td>2.3449</td>\n",
       "      <td>-1.0068</td>\n",
       "      <td>-4.3428</td>\n",
       "      <td>-1.9741</td>\n",
       "      <td>0.4009</td>\n",
       "      <td>-0.6131</td>\n",
       "      <td>...</td>\n",
       "      <td>1.7551</td>\n",
       "      <td>2.7002</td>\n",
       "      <td>-1.4273</td>\n",
       "      <td>-0.5757</td>\n",
       "      <td>-2.0154</td>\n",
       "      <td>1.784</td>\n",
       "      <td>-2.0744</td>\n",
       "      <td>0.63</td>\n",
       "      <td>-3.3569</td>\n",
       "      <td>-1.4565</td>\n",
       "    </tr>\n",
       "    <tr>\n",
       "      <th>TCGA-4H-AAAK-01</th>\n",
       "      <td>-0.0534</td>\n",
       "      <td>1.5834</td>\n",
       "      <td>-0.2282</td>\n",
       "      <td>0.4232</td>\n",
       "      <td>0.7330</td>\n",
       "      <td>-0.9801</td>\n",
       "      <td>-4.3428</td>\n",
       "      <td>-0.8161</td>\n",
       "      <td>0.9240</td>\n",
       "      <td>-1.3989</td>\n",
       "      <td>...</td>\n",
       "      <td>1.836</td>\n",
       "      <td>2.7139</td>\n",
       "      <td>-1.8134</td>\n",
       "      <td>-0.6962</td>\n",
       "      <td>-0.984</td>\n",
       "      <td>-0.6448</td>\n",
       "      <td>-1.406</td>\n",
       "      <td>-0.2909</td>\n",
       "      <td>-3.0985</td>\n",
       "      <td>-0.7518</td>\n",
       "    </tr>\n",
       "  </tbody>\n",
       "</table>\n",
       "<p>5 rows × 19737 columns</p>\n",
       "</div>"
      ],
      "text/plain": [
       "Entrez_Gene_Id   100133144  100134869  10357      10431      155060     \\\n",
       "TCGA-3C-AAAU-01     1.0625     1.4054    -2.6318    -2.3685     3.9877   \n",
       "TCGA-3C-AALI-01     0.3242     1.8883    -1.1750    -0.9363     2.1972   \n",
       "TCGA-3C-AALJ-01     0.6145     0.8671     2.8280     2.9686     2.4923   \n",
       "TCGA-3C-AALK-01     0.6655     1.1569     2.4738     0.9625     2.3449   \n",
       "TCGA-4H-AAAK-01    -0.0534     1.5834    -0.2282     0.4232     0.7330   \n",
       "\n",
       "Entrez_Gene_Id   26823      280660     340602     388795     390284     ...  \\\n",
       "TCGA-3C-AAAU-01    -2.1170    -4.3428     1.2983    -1.2612    -0.7965  ...   \n",
       "TCGA-3C-AALI-01     0.2431    -0.2931    14.2840     1.7157    -2.3744  ...   \n",
       "TCGA-3C-AALJ-01    -2.1170    -4.3428    -1.9741     0.7886    -1.5576  ...   \n",
       "TCGA-3C-AALK-01    -1.0068    -4.3428    -1.9741     0.4009    -0.6131  ...   \n",
       "TCGA-4H-AAAK-01    -0.9801    -4.3428    -0.8161     0.9240    -1.3989  ...   \n",
       "\n",
       "Entrez_Gene_Id   55055      11130      7789       158586     79364      \\\n",
       "TCGA-3C-AAAU-01     1.9072     3.2236     1.4119     2.6413     1.4366   \n",
       "TCGA-3C-AALI-01     4.8779     3.2788    -1.1521     -0.481     0.3201   \n",
       "TCGA-3C-AALJ-01     1.0158     4.7992     -2.878     0.1908    -2.6322   \n",
       "TCGA-3C-AALK-01     1.7551     2.7002    -1.4273    -0.5757    -2.0154   \n",
       "TCGA-4H-AAAK-01      1.836     2.7139    -1.8134    -0.6962     -0.984   \n",
       "\n",
       "Entrez_Gene_Id   440590     79699      7791       23140      26009      \n",
       "TCGA-3C-AAAU-01     2.1646    -0.1948    -0.6725     0.2801     0.1443  \n",
       "TCGA-3C-AALI-01     1.9051    -2.0915     0.5403    -1.2083     -3.126  \n",
       "TCGA-3C-AALJ-01     2.4101    -2.4353     0.5178    -2.5848     -2.435  \n",
       "TCGA-3C-AALK-01      1.784    -2.0744       0.63    -3.3569    -1.4565  \n",
       "TCGA-4H-AAAK-01    -0.6448     -1.406    -0.2909    -3.0985    -0.7518  \n",
       "\n",
       "[5 rows x 19737 columns]"
      ]
     },
     "execution_count": 1,
     "metadata": {},
     "output_type": "execute_result"
    }
   ],
   "source": [
    "import pandas as pd \n",
    "import numpy  as np \n",
    "\n",
    "from modules import ngs  \n",
    "from modules.autoencoder import *\n",
    "from modules.preprocess  import *\n",
    "from modules.utilities   import *\n",
    "from modules.postprocess import *\n",
    "\n",
    "ds = ngs.get_ds()\n",
    "ds.head()"
   ]
  },
  {
   "cell_type": "markdown",
   "metadata": {},
   "source": [
    "Estraiamo il numero di features, che servirà in futuro."
   ]
  },
  {
   "cell_type": "code",
   "execution_count": null,
   "metadata": {},
   "outputs": [],
   "source": [
    "nfeatures = ds.shape[1]"
   ]
  },
  {
   "cell_type": "markdown",
   "metadata": {},
   "source": [
    "Salviamo il nome del file contente il dataset."
   ]
  },
  {
   "cell_type": "code",
   "execution_count": null,
   "metadata": {},
   "outputs": [],
   "source": [
    "dataset_file = ngs.get_data_sources()[1]"
   ]
  },
  {
   "cell_type": "markdown",
   "metadata": {},
   "source": [
    "Salviamo il nome della cartella che conterrà i risultati."
   ]
  },
  {
   "cell_type": "code",
   "execution_count": null,
   "metadata": {},
   "outputs": [],
   "source": [
    "results_directory = 'results/ngs/blind'"
   ]
  },
  {
   "cell_type": "markdown",
   "metadata": {},
   "source": [
    "## Estrazione degli autoencoders"
   ]
  },
  {
   "cell_type": "markdown",
   "metadata": {},
   "source": [
    "Estraiamo gli autoencoders (blind):"
   ]
  },
  {
   "cell_type": "code",
   "execution_count": null,
   "metadata": {},
   "outputs": [],
   "source": [
    "autoencoders_structures = blind_autoencoders(nfeatures)"
   ]
  },
  {
   "cell_type": "markdown",
   "metadata": {},
   "source": [
    "## Preparazione dei dati di training"
   ]
  },
  {
   "cell_type": "markdown",
   "metadata": {},
   "source": [
    "La tesi descrive accuratamente come avviene lo split e come avviene lo scaling (min-max normalization). "
   ]
  },
  {
   "cell_type": "code",
   "execution_count": null,
   "metadata": {},
   "outputs": [],
   "source": [
    "x_train, x_valid = train_test_split(ds, test_perc = .1)\n",
    "x_train, x_test  = train_test_split(x_train, test_perc = .1)\n",
    "x_train, x_test, scaler = normalize_sets(x_train, x_test)\n",
    "x_valid = normalize_with_pretrained_scaler(scaler, x_valid)"
   ]
  },
  {
   "cell_type": "markdown",
   "metadata": {},
   "source": [
    "## Embedding space di dimensione 150"
   ]
  },
  {
   "cell_type": "markdown",
   "metadata": {},
   "source": [
    "Creiamo il modello `BLA150`: BLind Autoencoder 150 (embedding space dimension)"
   ]
  },
  {
   "cell_type": "code",
   "execution_count": null,
   "metadata": {},
   "outputs": [],
   "source": [
    "emb150 = autoencoders_structures.get(150)\n",
    "enc150 = emb150.get('encoder')\n",
    "dec150 = emb150.get('decoder')\n",
    "encpos = emb150.get('encoder_position')\n",
    "\n",
    "BLA150 = generate_deep_autoencoder(nfeatures, enc150, dec150) "
   ]
  },
  {
   "cell_type": "code",
   "execution_count": null,
   "metadata": {},
   "outputs": [],
   "source": [
    "from keras.callbacks import EarlyStopping\n",
    "\n",
    "earlystopping = EarlyStopping(monitor='val_loss', verbose=1, patience=20)\n",
    "\n",
    "BLA150_training_hist = BLA150.fit(x_train, x_train,\n",
    "            epochs=50, \n",
    "            batch_size=256,\n",
    "            shuffle=True,\n",
    "            verbose=1,\n",
    "            callbacks=[earlystopping],\n",
    "            validation_data=(x_test, x_test))\n",
    "\n",
    "plot_history(BLA150_training_hist)"
   ]
  },
  {
   "cell_type": "markdown",
   "metadata": {},
   "source": [
    "### Valutazione modello BLA150 "
   ]
  },
  {
   "cell_type": "code",
   "execution_count": null,
   "metadata": {},
   "outputs": [],
   "source": [
    "training_loss = BLA150_training_hist.history['val_loss'][-1]\n",
    "loss, mae, mse = BLA150.evaluate(x_valid, x_valid, verbose=0)\n",
    "loss, mae, mse"
   ]
  },
  {
   "cell_type": "code",
   "execution_count": null,
   "metadata": {},
   "outputs": [],
   "source": [
    "visualize_as_images(x_valid, BLA150, 10)"
   ]
  },
  {
   "cell_type": "markdown",
   "metadata": {},
   "source": [
    "### Esportazione del dataset compresso da BLA150"
   ]
  },
  {
   "cell_type": "code",
   "execution_count": null,
   "metadata": {},
   "outputs": [],
   "source": [
    "BLA150_encoder = extract_encoder(BLA150, encpos)\n",
    "BLA150_ds = pd.DataFrame(BLA150_encoder.predict(np.asarray(ds).astype('float32')))\n",
    "BLA150_ds.index = ds.index\n",
    "BLA150_ds.head()"
   ]
  },
  {
   "cell_type": "code",
   "execution_count": null,
   "metadata": {},
   "outputs": [],
   "source": [
    "save_compressed_dataset(BLA150_ds, loss, results_directory, dataset_file)"
   ]
  },
  {
   "cell_type": "markdown",
   "metadata": {},
   "source": [
    "## Embedding space di dimensione 50"
   ]
  },
  {
   "cell_type": "markdown",
   "metadata": {},
   "source": [
    "Creiamo il modello `BLA50`: BLind Autoencoder 50 (embedding space dimension)"
   ]
  },
  {
   "cell_type": "code",
   "execution_count": null,
   "metadata": {},
   "outputs": [],
   "source": [
    "emb50 = autoencoders_structures.get(50)\n",
    "enc50 = emb50.get('encoder')\n",
    "dec50 = emb50.get('decoder')\n",
    "encpos = emb50.get('encoder_position')\n",
    "\n",
    "BLA50 = generate_deep_autoencoder(nfeatures, enc50, dec50) "
   ]
  },
  {
   "cell_type": "code",
   "execution_count": null,
   "metadata": {},
   "outputs": [],
   "source": [
    "from keras.callbacks import EarlyStopping\n",
    "\n",
    "earlystopping = EarlyStopping(monitor='val_loss', verbose=1, patience=20)\n",
    "\n",
    "BLA50_training_hist = BLA50.fit(x_train, x_train,\n",
    "            epochs=50, \n",
    "            batch_size=256,\n",
    "            shuffle=True,\n",
    "            verbose=0,\n",
    "            callbacks=[earlystopping],\n",
    "            validation_data=(x_test, x_test))\n",
    "\n",
    "plot_history(BLA50_training_hist)"
   ]
  },
  {
   "cell_type": "markdown",
   "metadata": {},
   "source": [
    "### Valutazione modello BLA50 "
   ]
  },
  {
   "cell_type": "code",
   "execution_count": null,
   "metadata": {},
   "outputs": [],
   "source": [
    "training_loss = BLA50_training_hist.history['val_loss'][-1]\n",
    "loss, mae, mse = BLA50.evaluate(x_valid, x_valid, verbose=0)\n",
    "loss, mae, mse"
   ]
  },
  {
   "cell_type": "code",
   "execution_count": null,
   "metadata": {},
   "outputs": [],
   "source": [
    "visualize_as_images(x_valid, BLA50, 10)"
   ]
  },
  {
   "cell_type": "markdown",
   "metadata": {},
   "source": [
    "### Esportazione del dataset compresso da BLA50"
   ]
  },
  {
   "cell_type": "code",
   "execution_count": null,
   "metadata": {},
   "outputs": [],
   "source": [
    "BLA50_encoder = extract_encoder(BLA50, encpos)\n",
    "BLA50_ds = pd.DataFrame(BLA50_encoder.predict(np.asarray(ds).astype('float32')))\n",
    "BLA50_ds.index = ds.index\n",
    "BLA50_ds.head()"
   ]
  },
  {
   "cell_type": "code",
   "execution_count": null,
   "metadata": {},
   "outputs": [],
   "source": [
    "save_compressed_dataset(BLA150_ds, loss, results_directory, dataset_file)"
   ]
  },
  {
   "cell_type": "markdown",
   "metadata": {},
   "source": [
    "## Embedding space di dimensione 25"
   ]
  },
  {
   "cell_type": "markdown",
   "metadata": {},
   "source": [
    "Creiamo il modello `BLA25`: BLind Autoencoder 25 (embedding space dimension)"
   ]
  },
  {
   "cell_type": "code",
   "execution_count": null,
   "metadata": {},
   "outputs": [],
   "source": [
    "emb25 = autoencoders_structures.get(25)\n",
    "enc25 = emb25.get('encoder')\n",
    "dec25 = emb25.get('decoder')\n",
    "encpos = emb25.get('encoder_position')\n",
    "\n",
    "BLA25 = generate_deep_autoencoder(nfeatures, enc25, dec25) "
   ]
  },
  {
   "cell_type": "code",
   "execution_count": null,
   "metadata": {},
   "outputs": [],
   "source": [
    "from keras.callbacks import EarlyStopping\n",
    "\n",
    "earlystopping = EarlyStopping(monitor='val_loss', verbose=1, patience=20)\n",
    "\n",
    "BLA25_training_hist = BLA25.fit(x_train, x_train,\n",
    "            epochs=50, \n",
    "            batch_size=256,\n",
    "            shuffle=True,\n",
    "            verbose=1,\n",
    "            callbacks=[earlystopping],\n",
    "            validation_data=(x_test, x_test))\n",
    "\n",
    "plot_history(BLA25_training_hist)"
   ]
  },
  {
   "cell_type": "markdown",
   "metadata": {},
   "source": [
    "### Valutazione modello BLA25"
   ]
  },
  {
   "cell_type": "code",
   "execution_count": null,
   "metadata": {},
   "outputs": [],
   "source": [
    "training_loss = BLA25_training_hist.history['val_loss'][-1]\n",
    "loss, mae, mse = BLA25.evaluate(x_valid, x_valid, verbose=0)\n",
    "loss, mae, mse"
   ]
  },
  {
   "cell_type": "code",
   "execution_count": null,
   "metadata": {},
   "outputs": [],
   "source": [
    "visualize_as_images(x_valid, BLA25, 10)"
   ]
  },
  {
   "cell_type": "markdown",
   "metadata": {},
   "source": [
    "### Esportazione del dataset compresso da BLA25"
   ]
  },
  {
   "cell_type": "code",
   "execution_count": null,
   "metadata": {},
   "outputs": [],
   "source": [
    "BLA25_encoder = extract_encoder(BLA25, encpos)\n",
    "BLA25_ds = pd.DataFrame(BLA25_encoder.predict(np.asarray(ds).astype('float32')))\n",
    "BLA25_ds.index = ds.index\n",
    "BLA25_ds.head()"
   ]
  },
  {
   "cell_type": "code",
   "execution_count": null,
   "metadata": {},
   "outputs": [],
   "source": [
    "save_compressed_dataset(BLA150_ds, loss, results_directory, dataset_file)"
   ]
  }
 ],
 "metadata": {
  "kernelspec": {
   "display_name": "Python 3",
   "language": "python",
   "name": "python3"
  },
  "language_info": {
   "codemirror_mode": {
    "name": "ipython",
    "version": 3
   },
   "file_extension": ".py",
   "mimetype": "text/x-python",
   "name": "python",
   "nbconvert_exporter": "python",
   "pygments_lexer": "ipython3",
   "version": "3.8.5"
  }
 },
 "nbformat": 4,
 "nbformat_minor": 4
}
