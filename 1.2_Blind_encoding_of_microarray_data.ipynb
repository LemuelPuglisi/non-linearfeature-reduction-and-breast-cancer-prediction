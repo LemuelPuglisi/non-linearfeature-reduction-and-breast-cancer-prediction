{
 "cells": [
  {
   "cell_type": "markdown",
   "metadata": {},
   "source": [
    "# Riduzione della dimensionalità di dati Microarray\n",
    "I dati molecolari sono estratti attraverso microarray. I file contenenti i dati molecolari iniziano tutti con la dicitura \"data_\" e contengono gli stessi dati normalizzati con procedure diverse. Questo perché i dati molecolari possono essere normalizzati in tanti modi e non si sa a priori quale tipologia di normalizzazione funziona meglio per la costruzione dell'autoencoder. Ognuno di questi file contiene una matrice in cui vi è una riga per ogni gene (feature di input) e una colonna per ogni paziente. Le prime due colonne contengono i nomi delle righe in formato diverso. La prima riga contiene i nomi delle colonne (tranne le prime due colonne i restanti nomi sono i codici dei campioni). I codici dei campioni sono sequenze di 15 caratteri."
   ]
  },
  {
   "cell_type": "markdown",
   "metadata": {},
   "source": [
    "## Estrazione dei dati dal dataset Microarray\n",
    "\n",
    "Le strutture degli autoencoders sono disponibili nel modulo `autoencoder`. Le scelte architetturali ed implementative sono descritte all'interno della tesi. Prima di tutto, estraiamo i dati dal dataset Microarray attraverso il modulo `microarray`. Utilizzeremo di default il file `data_mRNA_median_Zscores.txt`, che ha fornito i risultati di compressione migliori. Il metodo `microarray.get_ds()`  restituisce il dataset già preprocessato (attraverso gli step descritti nella tesi)."
   ]
  },
  {
   "cell_type": "code",
   "execution_count": null,
   "metadata": {},
   "outputs": [],
   "source": [
    "import pandas as pd \n",
    "import numpy  as np \n",
    "\n",
    "from modules import microarray  \n",
    "from modules.autoencoder import *\n",
    "from modules.preprocess  import *\n",
    "from modules.utilities   import *\n",
    "from modules.postprocess import *\n",
    "\n",
    "ds = microarray.get_ds()\n",
    "ds.head()"
   ]
  },
  {
   "cell_type": "markdown",
   "metadata": {},
   "source": [
    "Estraiamo il numero di features, che servirà in futuro."
   ]
  },
  {
   "cell_type": "code",
   "execution_count": null,
   "metadata": {},
   "outputs": [],
   "source": [
    "nfeatures = ds.shape[1]"
   ]
  },
  {
   "cell_type": "markdown",
   "metadata": {},
   "source": [
    "Salviamo il nome del file contente il dataset."
   ]
  },
  {
   "cell_type": "code",
   "execution_count": null,
   "metadata": {},
   "outputs": [],
   "source": [
    "dataset_file = microarray.get_data_sources()[0]"
   ]
  },
  {
   "cell_type": "markdown",
   "metadata": {},
   "source": [
    "Salviamo il nome della cartella che conterrà i risultati."
   ]
  },
  {
   "cell_type": "code",
   "execution_count": null,
   "metadata": {},
   "outputs": [],
   "source": [
    "results_directory = 'results/microarray/blind'"
   ]
  },
  {
   "cell_type": "markdown",
   "metadata": {},
   "source": [
    "## Estrazione degli autoencoders"
   ]
  },
  {
   "cell_type": "markdown",
   "metadata": {},
   "source": [
    "Estraiamo gli autoencoders (blind):"
   ]
  },
  {
   "cell_type": "code",
   "execution_count": null,
   "metadata": {},
   "outputs": [],
   "source": [
    "autoencoders_structures = blind_autoencoders(nfeatures)"
   ]
  },
  {
   "cell_type": "markdown",
   "metadata": {},
   "source": [
    "## Preparazione dei dati di training"
   ]
  },
  {
   "cell_type": "markdown",
   "metadata": {},
   "source": [
    "La tesi descrive accuratamente come avviene lo split e come avviene lo scaling (min-max normalization). "
   ]
  },
  {
   "cell_type": "code",
   "execution_count": null,
   "metadata": {},
   "outputs": [],
   "source": [
    "x_train, x_valid = train_test_split(ds, test_perc = .1)\n",
    "x_train, x_test  = train_test_split(x_train, test_perc = .1)\n",
    "x_train, x_test, scaler = normalize_sets(x_train, x_test)\n",
    "x_valid = normalize_with_pretrained_scaler(scaler, x_valid)"
   ]
  },
  {
   "cell_type": "markdown",
   "metadata": {},
   "source": [
    "## Embedding space di dimensione 150"
   ]
  },
  {
   "cell_type": "markdown",
   "metadata": {},
   "source": [
    "Creiamo il modello `BLA150`: BLind Autoencoder 150 (embedding space dimension)"
   ]
  },
  {
   "cell_type": "code",
   "execution_count": null,
   "metadata": {},
   "outputs": [],
   "source": [
    "emb150 = autoencoders_structures.get(150)\n",
    "enc150 = emb150.get('encoder')\n",
    "dec150 = emb150.get('decoder')\n",
    "encpos = emb150.get('encoder_position')\n",
    "\n",
    "BLA150 = generate_deep_autoencoder(nfeatures, enc150, dec150) "
   ]
  },
  {
   "cell_type": "code",
   "execution_count": null,
   "metadata": {},
   "outputs": [],
   "source": [
    "from keras.callbacks import EarlyStopping\n",
    "\n",
    "earlystopping = EarlyStopping(monitor='val_loss', verbose=1, patience=20)\n",
    "\n",
    "BLA150_training_hist = BLA150.fit(x_train, x_train,\n",
    "            epochs=50, \n",
    "            batch_size=256,\n",
    "            shuffle=True,\n",
    "            verbose=0,\n",
    "            callbacks=[earlystopping],\n",
    "            validation_data=(x_test, x_test))\n",
    "\n",
    "plot_history(BLA150_training_hist)"
   ]
  },
  {
   "cell_type": "markdown",
   "metadata": {},
   "source": [
    "### Valutazione modello BLA150 "
   ]
  },
  {
   "cell_type": "code",
   "execution_count": null,
   "metadata": {},
   "outputs": [],
   "source": [
    "training_loss = BLA150_training_hist.history['val_loss'][-1]\n",
    "loss, mae, mse = BLA150.evaluate(x_valid, x_valid, verbose=0)\n",
    "loss, mae, mse"
   ]
  },
  {
   "cell_type": "code",
   "execution_count": null,
   "metadata": {},
   "outputs": [],
   "source": [
    "visualize_as_images(x_valid, BLA150, 10)"
   ]
  },
  {
   "cell_type": "markdown",
   "metadata": {},
   "source": [
    "### Esportazione del dataset compresso da BLA150"
   ]
  },
  {
   "cell_type": "code",
   "execution_count": null,
   "metadata": {},
   "outputs": [],
   "source": [
    "BLA150_encoder = extract_encoder(BLA150, encpos)\n",
    "BLA150_ds = pd.DataFrame(BLA150_encoder.predict(np.asarray(ds).astype('float32')))\n",
    "BLA150_ds.index = ds.index\n",
    "BLA150_ds.head()"
   ]
  },
  {
   "cell_type": "code",
   "execution_count": null,
   "metadata": {},
   "outputs": [],
   "source": [
    "save_compressed_dataset(BLA150_ds, loss, results_directory, dataset_file)"
   ]
  },
  {
   "cell_type": "markdown",
   "metadata": {},
   "source": [
    "## Embedding space di dimensione 50"
   ]
  },
  {
   "cell_type": "markdown",
   "metadata": {},
   "source": [
    "Creiamo il modello `BLA50`: BLind Autoencoder 50 (embedding space dimension)"
   ]
  },
  {
   "cell_type": "code",
   "execution_count": null,
   "metadata": {},
   "outputs": [],
   "source": [
    "emb50 = autoencoders_structures.get(50)\n",
    "enc50 = emb50.get('encoder')\n",
    "dec50 = emb50.get('decoder')\n",
    "encpos = emb50.get('encoder_position')\n",
    "\n",
    "BLA50 = generate_deep_autoencoder(nfeatures, enc50, dec50) "
   ]
  },
  {
   "cell_type": "code",
   "execution_count": null,
   "metadata": {},
   "outputs": [],
   "source": [
    "from keras.callbacks import EarlyStopping\n",
    "\n",
    "earlystopping = EarlyStopping(monitor='val_loss', verbose=1, patience=20)\n",
    "\n",
    "BLA50_training_hist = BLA50.fit(x_train, x_train,\n",
    "            epochs=50, \n",
    "            batch_size=256,\n",
    "            shuffle=True,\n",
    "            verbose=0,\n",
    "            callbacks=[earlystopping],\n",
    "            validation_data=(x_test, x_test))\n",
    "\n",
    "plot_history(BLA50_training_hist)"
   ]
  },
  {
   "cell_type": "markdown",
   "metadata": {},
   "source": [
    "### Valutazione modello BLA50 "
   ]
  },
  {
   "cell_type": "code",
   "execution_count": null,
   "metadata": {},
   "outputs": [],
   "source": [
    "training_loss = BLA50_training_hist.history['val_loss'][-1]\n",
    "loss, mae, mse = BLA50.evaluate(x_valid, x_valid, verbose=0)\n",
    "loss, mae, mse"
   ]
  },
  {
   "cell_type": "code",
   "execution_count": null,
   "metadata": {},
   "outputs": [],
   "source": [
    "visualize_as_images(x_valid, BLA50, 10)"
   ]
  },
  {
   "cell_type": "markdown",
   "metadata": {},
   "source": [
    "### Esportazione del dataset compresso da BLA50"
   ]
  },
  {
   "cell_type": "code",
   "execution_count": null,
   "metadata": {},
   "outputs": [],
   "source": [
    "BLA50_encoder = extract_encoder(BLA50, encpos)\n",
    "BLA50_ds = pd.DataFrame(BLA50_encoder.predict(np.asarray(ds).astype('float32')))\n",
    "BLA50_ds.index = ds.index\n",
    "BLA50_ds.head()"
   ]
  },
  {
   "cell_type": "code",
   "execution_count": null,
   "metadata": {},
   "outputs": [],
   "source": [
    "save_compressed_dataset(BLA50_ds, loss, results_directory, dataset_file)"
   ]
  },
  {
   "cell_type": "markdown",
   "metadata": {},
   "source": [
    "## Embedding space di dimensione 25"
   ]
  },
  {
   "cell_type": "markdown",
   "metadata": {},
   "source": [
    "Creiamo il modello `BLA25`: BLind Autoencoder 25 (embedding space dimension)"
   ]
  },
  {
   "cell_type": "code",
   "execution_count": null,
   "metadata": {},
   "outputs": [],
   "source": [
    "emb25 = autoencoders_structures.get(25)\n",
    "enc25 = emb25.get('encoder')\n",
    "dec25 = emb25.get('decoder')\n",
    "encpos = emb25.get('encoder_position')\n",
    "\n",
    "BLA25 = generate_deep_autoencoder(nfeatures, enc25, dec25) "
   ]
  },
  {
   "cell_type": "code",
   "execution_count": null,
   "metadata": {},
   "outputs": [],
   "source": [
    "from keras.callbacks import EarlyStopping\n",
    "\n",
    "earlystopping = EarlyStopping(monitor='val_loss', verbose=1, patience=20)\n",
    "\n",
    "BLA25_training_hist = BLA25.fit(x_train, x_train,\n",
    "            epochs=50, \n",
    "            batch_size=256,\n",
    "            shuffle=True,\n",
    "            verbose=1,\n",
    "            callbacks=[earlystopping],\n",
    "            validation_data=(x_test, x_test))\n",
    "\n",
    "plot_history(BLA25_training_hist)"
   ]
  },
  {
   "cell_type": "markdown",
   "metadata": {},
   "source": [
    "### Valutazione modello BLA25"
   ]
  },
  {
   "cell_type": "code",
   "execution_count": null,
   "metadata": {},
   "outputs": [],
   "source": [
    "training_loss = BLA25_training_hist.history['val_loss'][-1]\n",
    "loss, mae, mse = BLA25.evaluate(x_valid, x_valid, verbose=0)\n",
    "loss, mae, mse"
   ]
  },
  {
   "cell_type": "code",
   "execution_count": null,
   "metadata": {},
   "outputs": [],
   "source": [
    "visualize_as_images(x_valid, BLA25, 10)"
   ]
  },
  {
   "cell_type": "markdown",
   "metadata": {},
   "source": [
    "### Esportazione del dataset compresso da BLA25"
   ]
  },
  {
   "cell_type": "code",
   "execution_count": null,
   "metadata": {},
   "outputs": [],
   "source": [
    "BLA25_encoder = extract_encoder(BLA25, encpos)\n",
    "BLA25_ds = pd.DataFrame(BLA25_encoder.predict(np.asarray(ds).astype('float32')))\n",
    "BLA25_ds.index = ds.index\n",
    "BLA25_ds.head()"
   ]
  },
  {
   "cell_type": "code",
   "execution_count": null,
   "metadata": {},
   "outputs": [],
   "source": [
    "save_compressed_dataset(BLA25_ds, loss, results_directory, dataset_file)"
   ]
  }
 ],
 "metadata": {
  "kernelspec": {
   "display_name": "Python 3",
   "language": "python",
   "name": "python3"
  },
  "language_info": {
   "codemirror_mode": {
    "name": "ipython",
    "version": 3
   },
   "file_extension": ".py",
   "mimetype": "text/x-python",
   "name": "python",
   "nbconvert_exporter": "python",
   "pygments_lexer": "ipython3",
   "version": "3.8.5"
  }
 },
 "nbformat": 4,
 "nbformat_minor": 4
}
