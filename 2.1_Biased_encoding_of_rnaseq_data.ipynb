{
 "cells": [
  {
   "cell_type": "markdown",
   "metadata": {},
   "source": [
    "# Biased autoencoder su dati RNA-Seq\n",
    "\n",
    "Allo scopo di migliorare la compressione, costruiamo una rete neurale simile ad un autoencoder, dove sostituiamo la componente decoder con un classificatore. Anziché performare una ricostruzione dei dati, effettuiamo una classificazione di essi. Utilizzeremo poi la componente encoder per comprimere il dataset."
   ]
  },
  {
   "cell_type": "code",
   "execution_count": 1,
   "metadata": {},
   "outputs": [],
   "source": [
    "import pandas as pd \n",
    "import numpy  as np\n",
    "\n",
    "from modules import autoencoder as ae \n",
    "from modules import ngs \n",
    "from modules import utilities\n",
    "from modules import postprocess"
   ]
  },
  {
   "cell_type": "markdown",
   "metadata": {},
   "source": [
    "Salviamo il nome del file contente il dataset."
   ]
  },
  {
   "cell_type": "code",
   "execution_count": 2,
   "metadata": {},
   "outputs": [],
   "source": [
    "dataset_file = ngs.get_data_sources()[1]"
   ]
  },
  {
   "cell_type": "markdown",
   "metadata": {},
   "source": [
    "Salviamo il nome della cartella che conterrà i risultati."
   ]
  },
  {
   "cell_type": "code",
   "execution_count": 27,
   "metadata": {},
   "outputs": [],
   "source": [
    "results_directory = 'results/ngs/bias'"
   ]
  },
  {
   "cell_type": "markdown",
   "metadata": {},
   "source": [
    "## SubBIA: Subtype BIased Autoencoder\n",
    "\n",
    "Utilizziamo il sottotipo di tumore al seno per veicolare la compressione dei dati. Utilizziamo la funzione `ngs.get_samples_with_label`, che ci permette di inserire, per ogni campione, la relativa label specificata come parametro. Inoltre tale funzione elimina automaticamente ogni record la cui label risutla non definita."
   ]
  },
  {
   "cell_type": "code",
   "execution_count": 4,
   "metadata": {},
   "outputs": [
    {
     "data": {
      "text/html": [
       "<div>\n",
       "<style scoped>\n",
       "    .dataframe tbody tr th:only-of-type {\n",
       "        vertical-align: middle;\n",
       "    }\n",
       "\n",
       "    .dataframe tbody tr th {\n",
       "        vertical-align: top;\n",
       "    }\n",
       "\n",
       "    .dataframe thead th {\n",
       "        text-align: right;\n",
       "    }\n",
       "</style>\n",
       "<table border=\"1\" class=\"dataframe\">\n",
       "  <thead>\n",
       "    <tr style=\"text-align: right;\">\n",
       "      <th></th>\n",
       "      <th>100133144</th>\n",
       "      <th>100134869</th>\n",
       "      <th>10357</th>\n",
       "      <th>10431</th>\n",
       "      <th>155060</th>\n",
       "      <th>26823</th>\n",
       "      <th>280660</th>\n",
       "      <th>340602</th>\n",
       "      <th>388795</th>\n",
       "      <th>390284</th>\n",
       "      <th>SUBTYPE</th>\n",
       "    </tr>\n",
       "  </thead>\n",
       "  <tbody>\n",
       "    <tr>\n",
       "      <th>TCGA-3C-AAAU-01</th>\n",
       "      <td>1.0625</td>\n",
       "      <td>1.4054</td>\n",
       "      <td>-2.6318</td>\n",
       "      <td>-2.3685</td>\n",
       "      <td>3.9877</td>\n",
       "      <td>-2.1170</td>\n",
       "      <td>-4.3428</td>\n",
       "      <td>1.2983</td>\n",
       "      <td>-1.2612</td>\n",
       "      <td>-0.7965</td>\n",
       "      <td>BRCA_LumA</td>\n",
       "    </tr>\n",
       "    <tr>\n",
       "      <th>TCGA-3C-AALI-01</th>\n",
       "      <td>0.3242</td>\n",
       "      <td>1.8883</td>\n",
       "      <td>-1.1750</td>\n",
       "      <td>-0.9363</td>\n",
       "      <td>2.1972</td>\n",
       "      <td>0.2431</td>\n",
       "      <td>-0.2931</td>\n",
       "      <td>14.2840</td>\n",
       "      <td>1.7157</td>\n",
       "      <td>-2.3744</td>\n",
       "      <td>BRCA_Her2</td>\n",
       "    </tr>\n",
       "    <tr>\n",
       "      <th>TCGA-3C-AALJ-01</th>\n",
       "      <td>0.6145</td>\n",
       "      <td>0.8671</td>\n",
       "      <td>2.8280</td>\n",
       "      <td>2.9686</td>\n",
       "      <td>2.4923</td>\n",
       "      <td>-2.1170</td>\n",
       "      <td>-4.3428</td>\n",
       "      <td>-1.9741</td>\n",
       "      <td>0.7886</td>\n",
       "      <td>-1.5576</td>\n",
       "      <td>BRCA_LumB</td>\n",
       "    </tr>\n",
       "    <tr>\n",
       "      <th>TCGA-3C-AALK-01</th>\n",
       "      <td>0.6655</td>\n",
       "      <td>1.1569</td>\n",
       "      <td>2.4738</td>\n",
       "      <td>0.9625</td>\n",
       "      <td>2.3449</td>\n",
       "      <td>-1.0068</td>\n",
       "      <td>-4.3428</td>\n",
       "      <td>-1.9741</td>\n",
       "      <td>0.4009</td>\n",
       "      <td>-0.6131</td>\n",
       "      <td>BRCA_LumA</td>\n",
       "    </tr>\n",
       "    <tr>\n",
       "      <th>TCGA-4H-AAAK-01</th>\n",
       "      <td>-0.0534</td>\n",
       "      <td>1.5834</td>\n",
       "      <td>-0.2282</td>\n",
       "      <td>0.4232</td>\n",
       "      <td>0.7330</td>\n",
       "      <td>-0.9801</td>\n",
       "      <td>-4.3428</td>\n",
       "      <td>-0.8161</td>\n",
       "      <td>0.9240</td>\n",
       "      <td>-1.3989</td>\n",
       "      <td>BRCA_LumA</td>\n",
       "    </tr>\n",
       "  </tbody>\n",
       "</table>\n",
       "</div>"
      ],
      "text/plain": [
       "                 100133144  100134869   10357   10431  155060   26823  280660  \\\n",
       "TCGA-3C-AAAU-01     1.0625     1.4054 -2.6318 -2.3685  3.9877 -2.1170 -4.3428   \n",
       "TCGA-3C-AALI-01     0.3242     1.8883 -1.1750 -0.9363  2.1972  0.2431 -0.2931   \n",
       "TCGA-3C-AALJ-01     0.6145     0.8671  2.8280  2.9686  2.4923 -2.1170 -4.3428   \n",
       "TCGA-3C-AALK-01     0.6655     1.1569  2.4738  0.9625  2.3449 -1.0068 -4.3428   \n",
       "TCGA-4H-AAAK-01    -0.0534     1.5834 -0.2282  0.4232  0.7330 -0.9801 -4.3428   \n",
       "\n",
       "                  340602  388795  390284    SUBTYPE  \n",
       "TCGA-3C-AAAU-01   1.2983 -1.2612 -0.7965  BRCA_LumA  \n",
       "TCGA-3C-AALI-01  14.2840  1.7157 -2.3744  BRCA_Her2  \n",
       "TCGA-3C-AALJ-01  -1.9741  0.7886 -1.5576  BRCA_LumB  \n",
       "TCGA-3C-AALK-01  -1.9741  0.4009 -0.6131  BRCA_LumA  \n",
       "TCGA-4H-AAAK-01  -0.8161  0.9240 -1.3989  BRCA_LumA  "
      ]
     },
     "execution_count": 4,
     "metadata": {},
     "output_type": "execute_result"
    }
   ],
   "source": [
    "df = ngs.get_samples_with_label('SUBTYPE')\n",
    "df.head()"
   ]
  },
  {
   "cell_type": "markdown",
   "metadata": {},
   "source": [
    "## Preparazione dei dati di training"
   ]
  },
  {
   "cell_type": "code",
   "execution_count": 5,
   "metadata": {},
   "outputs": [
    {
     "name": "stdout",
     "output_type": "stream",
     "text": [
      "Non considerando la classe nulla, vi sono 5 classi\n"
     ]
    }
   ],
   "source": [
    "nclasses = len(df['SUBTYPE'].unique())\n",
    "print(f\"Non considerando la classe nulla, vi sono {nclasses} classi\")"
   ]
  },
  {
   "cell_type": "markdown",
   "metadata": {},
   "source": [
    "Partizioniamo il dataset, facendo attenzione al problema del campionamento per la classificazione multiclasse. \n",
    "È necessario utilizzare un label encoder per convertire la label SUBTYPE in un valore categoriale."
   ]
  },
  {
   "cell_type": "code",
   "execution_count": 16,
   "metadata": {},
   "outputs": [],
   "source": [
    "from sklearn.preprocessing import LabelEncoder\n",
    "from keras.utils import to_categorical\n",
    "\n",
    "npoints, nfeatures = df.shape\n",
    "nfeatures -= 1 # remove the subtype count from the features\n",
    "train_set, valid_set =  utilities.multilabel_train_test_split(df, 'SUBTYPE', .2)\n",
    "train_set, test_set  =  utilities.multilabel_train_test_split(train_set,   'SUBTYPE', .2)\n",
    "\n",
    "label_encoder = LabelEncoder()\n",
    "label_encoder.fit(df['SUBTYPE'].unique())\n",
    "\n",
    "takex = lambda _ds: _ds.drop(['SUBTYPE'], axis=1)\n",
    "takey = lambda _ds: to_categorical(label_encoder.transform(_ds['SUBTYPE']))\n",
    "x_train, x_test, x_valid = takex(train_set), takex(test_set), takex(valid_set) \n",
    "y_train, y_test, y_valid = takey(train_set), takey(test_set), takey(valid_set)"
   ]
  },
  {
   "cell_type": "markdown",
   "metadata": {},
   "source": [
    "### Costruzione del modello"
   ]
  },
  {
   "cell_type": "code",
   "execution_count": 17,
   "metadata": {},
   "outputs": [],
   "source": [
    "autoencoder_structure = ae.biased_autoencoder(nclasses).get('SubBIA')"
   ]
  },
  {
   "cell_type": "code",
   "execution_count": 18,
   "metadata": {},
   "outputs": [],
   "source": [
    "enc = autoencoder_structure.get('encoder')\n",
    "clf = autoencoder_structure.get('classifier')\n",
    "SubBIA = ae.generate_biased_autoencoder(nfeatures, enc, clf)"
   ]
  },
  {
   "cell_type": "code",
   "execution_count": 19,
   "metadata": {},
   "outputs": [
    {
     "name": "stdout",
     "output_type": "stream",
     "text": [
      "Epoch 1/5\n",
      "3/3 [==============================] - 8s 2s/step - loss: 2.0881 - accuracy: 0.2512 - val_loss: 2.2490 - val_accuracy: 0.1720\n",
      "Epoch 2/5\n",
      "3/3 [==============================] - 5s 2s/step - loss: 1.5746 - accuracy: 0.3559 - val_loss: 3.2621 - val_accuracy: 0.1720\n",
      "Epoch 3/5\n",
      "3/3 [==============================] - 5s 2s/step - loss: 1.4413 - accuracy: 0.4775 - val_loss: 3.5592 - val_accuracy: 0.1720\n",
      "Epoch 4/5\n",
      "3/3 [==============================] - 5s 2s/step - loss: 1.3688 - accuracy: 0.5018 - val_loss: 3.1516 - val_accuracy: 0.1911\n",
      "Epoch 5/5\n",
      "3/3 [==============================] - 5s 2s/step - loss: 1.3170 - accuracy: 0.5251 - val_loss: 2.4945 - val_accuracy: 0.2038\n"
     ]
    },
    {
     "data": {
      "image/png": "[encoded data removed]",
      "text/plain": [
       "<Figure size 432x288 with 1 Axes>"
      ]
     },
     "metadata": {
      "needs_background": "light"
     },
     "output_type": "display_data"
    }
   ],
   "source": [
    "from keras.callbacks import EarlyStopping\n",
    "\n",
    "earlystopping = EarlyStopping(monitor='val_loss',\\\n",
    "                              verbose=1, patience=40,\\\n",
    "                              restore_best_weights=True)\n",
    "\n",
    "SubBIA_history = SubBIA.fit(np.asarray(x_train).astype(np.float32), y_train,\n",
    "            epochs=60, \n",
    "            batch_size=256,\n",
    "            shuffle=True,\n",
    "            verbose=1,\n",
    "            callbacks=[earlystopping],\n",
    "            validation_data=(np.asarray(x_test).astype(np.float32), y_test))\n",
    "\n",
    "postprocess.plot_history(SubBIA_history)"
   ]
  },
  {
   "cell_type": "markdown",
   "metadata": {},
   "source": [
    "### Valutazione del modello SubBIA"
   ]
  },
  {
   "cell_type": "code",
   "execution_count": 22,
   "metadata": {},
   "outputs": [
    {
     "data": {
      "text/plain": [
       "(2.6772401332855225, 0.18877550959587097)"
      ]
     },
     "execution_count": 22,
     "metadata": {},
     "output_type": "execute_result"
    }
   ],
   "source": [
    "loss, acc = SubBIA.evaluate(np.asarray(x_valid).astype(np.float32), y_valid, verbose=0)\n",
    "loss, acc"
   ]
  },
  {
   "cell_type": "markdown",
   "metadata": {},
   "source": [
    "### Salvataggio dei dataset compressi"
   ]
  },
  {
   "cell_type": "code",
   "execution_count": 25,
   "metadata": {},
   "outputs": [],
   "source": [
    "encpos = autoencoder_structure.get('encoder_position')\n",
    "\n",
    "ds = df.drop('SUBTYPE', axis=1)\n",
    "\n",
    "enc150f = ae.extract_encoder(SubBIA, encpos.get(150))\n",
    "red_ds_150 = pd.DataFrame(enc150f.predict(np.asarray(ds).astype('float32')))\n",
    "red_ds_150.index = ds.index\n",
    "\n",
    "enc50f = ae.extract_encoder(SubBIA, encpos.get(50))\n",
    "red_ds_50 = pd.DataFrame(enc50f.predict(np.asarray(ds).astype('float32')))\n",
    "red_ds_50.index = ds.index\n",
    "\n",
    "enc25f = ae.extract_encoder(SubBIA, encpos.get(25))\n",
    "red_ds_25 = pd.DataFrame(enc25f.predict(np.asarray(ds).astype('float32')))\n",
    "red_ds_25.index = ds.index"
   ]
  },
  {
   "cell_type": "code",
   "execution_count": 28,
   "metadata": {},
   "outputs": [],
   "source": [
    "postprocess.save_compressed_dataset(red_ds_150, loss, results_directory, dataset_file)\n",
    "postprocess.save_compressed_dataset(red_ds_50,  loss, results_directory, dataset_file)\n",
    "postprocess.save_compressed_dataset(red_ds_25,  loss, results_directory, dataset_file)"
   ]
  }
 ],
 "metadata": {
  "kernelspec": {
   "display_name": "Python 3",
   "language": "python",
   "name": "python3"
  },
  "language_info": {
   "codemirror_mode": {
    "name": "ipython",
    "version": 3
   },
   "file_extension": ".py",
   "mimetype": "text/x-python",
   "name": "python",
   "nbconvert_exporter": "python",
   "pygments_lexer": "ipython3",
   "version": "3.8.5"
  }
 },
 "nbformat": 4,
 "nbformat_minor": 4
}
