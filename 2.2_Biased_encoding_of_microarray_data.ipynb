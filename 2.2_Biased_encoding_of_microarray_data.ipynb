{
 "cells": [
  {
   "cell_type": "markdown",
   "metadata": {},
   "source": [
    "# Biased autoencoder su dati Microarray\n",
    "\n",
    "Allo scopo di migliorare la compressione, costruiamo una rete neurale simile ad un autoencoder, dove sostituiamo la componente decoder con un classificatore. Anziché performare una ricostruzione dei dati, effettuiamo una classificazione di essi. Utilizzeremo poi la componente encoder per comprimere il dataset."
   ]
  },
  {
   "cell_type": "code",
   "execution_count": 1,
   "metadata": {},
   "outputs": [],
   "source": [
    "import pandas as pd \n",
    "import numpy  as np\n",
    "\n",
    "from modules import autoencoder as ae \n",
    "from modules import microarray \n",
    "from modules import utilities\n",
    "from modules import postprocess"
   ]
  },
  {
   "cell_type": "markdown",
   "metadata": {},
   "source": [
    "Salviamo il nome del file contente il dataset."
   ]
  },
  {
   "cell_type": "code",
   "execution_count": 2,
   "metadata": {},
   "outputs": [],
   "source": [
    "dataset_file = microarray.get_data_sources()[0]"
   ]
  },
  {
   "cell_type": "markdown",
   "metadata": {},
   "source": [
    "Salviamo il nome della cartella che conterrà i risultati."
   ]
  },
  {
   "cell_type": "code",
   "execution_count": 29,
   "metadata": {},
   "outputs": [],
   "source": [
    "results_directory = 'results/microarray/bias'"
   ]
  },
  {
   "cell_type": "markdown",
   "metadata": {},
   "source": [
    "## SubBIA: Subtype BIased Autoencoder\n",
    "\n",
    "Utilizziamo il sottotipo di tumore al seno per veicolare la compressione dei dati. Utilizziamo la funzione `microarray.get_samples_with_label`, che ci permette di inserire, per ogni campione, la relativa label specificata come parametro. Inoltre tale funzione elimina automaticamente ogni record la cui label risutla non definita."
   ]
  },
  {
   "cell_type": "code",
   "execution_count": 9,
   "metadata": {},
   "outputs": [
    {
     "data": {
      "text/html": [
       "<div>\n",
       "<style scoped>\n",
       "    .dataframe tbody tr th:only-of-type {\n",
       "        vertical-align: middle;\n",
       "    }\n",
       "\n",
       "    .dataframe tbody tr th {\n",
       "        vertical-align: top;\n",
       "    }\n",
       "\n",
       "    .dataframe thead th {\n",
       "        text-align: right;\n",
       "    }\n",
       "</style>\n",
       "<table border=\"1\" class=\"dataframe\">\n",
       "  <thead>\n",
       "    <tr style=\"text-align: right;\">\n",
       "      <th></th>\n",
       "      <th>RNF165</th>\n",
       "      <th>PHF7</th>\n",
       "      <th>CIDEA</th>\n",
       "      <th>TENT2</th>\n",
       "      <th>SLC17A3</th>\n",
       "      <th>SDS</th>\n",
       "      <th>ATP6V1C2</th>\n",
       "      <th>F3</th>\n",
       "      <th>FAM71C</th>\n",
       "      <th>LIN52</th>\n",
       "      <th>CLAUDIN_SUBTYPE</th>\n",
       "    </tr>\n",
       "  </thead>\n",
       "  <tbody>\n",
       "    <tr>\n",
       "      <th>MB-0362</th>\n",
       "      <td>-0.539</td>\n",
       "      <td>-0.5288</td>\n",
       "      <td>-0.0428</td>\n",
       "      <td>-1.1005</td>\n",
       "      <td>0.7652</td>\n",
       "      <td>0.9422</td>\n",
       "      <td>-0.5147</td>\n",
       "      <td>-1.4466</td>\n",
       "      <td>0.2558</td>\n",
       "      <td>1.3792</td>\n",
       "      <td>LumA</td>\n",
       "    </tr>\n",
       "    <tr>\n",
       "      <th>MB-0346</th>\n",
       "      <td>0.2795</td>\n",
       "      <td>-1.2666</td>\n",
       "      <td>-1.0604</td>\n",
       "      <td>-0.1582</td>\n",
       "      <td>-0.5049</td>\n",
       "      <td>-0.5246</td>\n",
       "      <td>3.9497</td>\n",
       "      <td>-1.2455</td>\n",
       "      <td>-0.8398</td>\n",
       "      <td>1.0669</td>\n",
       "      <td>Her2</td>\n",
       "    </tr>\n",
       "    <tr>\n",
       "      <th>MB-0386</th>\n",
       "      <td>-0.7587</td>\n",
       "      <td>0.0692</td>\n",
       "      <td>3.2405</td>\n",
       "      <td>-0.9619</td>\n",
       "      <td>0.6749</td>\n",
       "      <td>0.196</td>\n",
       "      <td>-0.2159</td>\n",
       "      <td>-1.071</td>\n",
       "      <td>-1.419</td>\n",
       "      <td>0.3337</td>\n",
       "      <td>LumA</td>\n",
       "    </tr>\n",
       "    <tr>\n",
       "      <th>MB-0574</th>\n",
       "      <td>-1.1358</td>\n",
       "      <td>-0.4942</td>\n",
       "      <td>-0.2908</td>\n",
       "      <td>2.2928</td>\n",
       "      <td>-1.0863</td>\n",
       "      <td>0.0116</td>\n",
       "      <td>-0.383</td>\n",
       "      <td>-1.1789</td>\n",
       "      <td>0.86</td>\n",
       "      <td>0.2752</td>\n",
       "      <td>LumA</td>\n",
       "    </tr>\n",
       "    <tr>\n",
       "      <th>MB-0503</th>\n",
       "      <td>-0.7617</td>\n",
       "      <td>-0.136</td>\n",
       "      <td>1.2219</td>\n",
       "      <td>0.9885</td>\n",
       "      <td>-1.2386</td>\n",
       "      <td>0.4852</td>\n",
       "      <td>-0.6472</td>\n",
       "      <td>-1.0173</td>\n",
       "      <td>-0.4554</td>\n",
       "      <td>1.1501</td>\n",
       "      <td>LumA</td>\n",
       "    </tr>\n",
       "  </tbody>\n",
       "</table>\n",
       "</div>"
      ],
      "text/plain": [
       "         RNF165    PHF7   CIDEA   TENT2 SLC17A3     SDS ATP6V1C2      F3  \\\n",
       "MB-0362  -0.539 -0.5288 -0.0428 -1.1005  0.7652  0.9422  -0.5147 -1.4466   \n",
       "MB-0346  0.2795 -1.2666 -1.0604 -0.1582 -0.5049 -0.5246   3.9497 -1.2455   \n",
       "MB-0386 -0.7587  0.0692  3.2405 -0.9619  0.6749   0.196  -0.2159  -1.071   \n",
       "MB-0574 -1.1358 -0.4942 -0.2908  2.2928 -1.0863  0.0116   -0.383 -1.1789   \n",
       "MB-0503 -0.7617  -0.136  1.2219  0.9885 -1.2386  0.4852  -0.6472 -1.0173   \n",
       "\n",
       "         FAM71C   LIN52 CLAUDIN_SUBTYPE  \n",
       "MB-0362  0.2558  1.3792            LumA  \n",
       "MB-0346 -0.8398  1.0669            Her2  \n",
       "MB-0386  -1.419  0.3337            LumA  \n",
       "MB-0574    0.86  0.2752            LumA  \n",
       "MB-0503 -0.4554  1.1501            LumA  "
      ]
     },
     "execution_count": 9,
     "metadata": {},
     "output_type": "execute_result"
    }
   ],
   "source": [
    "df = microarray.get_samples_with_label('CLAUDIN_SUBTYPE')\n",
    "df.head()"
   ]
  },
  {
   "cell_type": "code",
   "execution_count": 11,
   "metadata": {},
   "outputs": [],
   "source": [
    "df.rename(columns={'CLAUDIN_SUBTYPE': 'SUBTYPE'}, inplace=True)"
   ]
  },
  {
   "cell_type": "markdown",
   "metadata": {},
   "source": [
    "Rimuoviamo i record con sottotipo NC (Not classified)"
   ]
  },
  {
   "cell_type": "code",
   "execution_count": 16,
   "metadata": {},
   "outputs": [],
   "source": [
    "not_classified_records = df['SUBTYPE'] == 'NC'\n",
    "df = df[-not_classified_records]"
   ]
  },
  {
   "cell_type": "markdown",
   "metadata": {},
   "source": [
    "## Preparazione dei dati di training"
   ]
  },
  {
   "cell_type": "code",
   "execution_count": 17,
   "metadata": {},
   "outputs": [
    {
     "name": "stdout",
     "output_type": "stream",
     "text": [
      "Non considerando la classe nulla, vi sono 6 classi\n"
     ]
    }
   ],
   "source": [
    "nclasses = len(df['SUBTYPE'].unique())\n",
    "print(f\"Non considerando la classe nulla, vi sono {nclasses} classi\")"
   ]
  },
  {
   "cell_type": "markdown",
   "metadata": {},
   "source": [
    "Partizioniamo il dataset, facendo attenzione al problema del campionamento per la classificazione multiclasse. \n",
    "È necessario utilizzare un label encoder per convertire la label SUBTYPE in un valore categoriale."
   ]
  },
  {
   "cell_type": "code",
   "execution_count": 18,
   "metadata": {},
   "outputs": [],
   "source": [
    "from sklearn.preprocessing import LabelEncoder\n",
    "from keras.utils import to_categorical\n",
    "\n",
    "npoints, nfeatures = df.shape\n",
    "nfeatures -= 1 # remove the SUBTYPE count\n",
    "\n",
    "train_set, valid_set =  utilities.multilabel_train_test_split(df, 'SUBTYPE', .2)\n",
    "train_set, test_set  =  utilities.multilabel_train_test_split(train_set,   'SUBTYPE', .2)\n",
    "\n",
    "label_encoder = LabelEncoder()\n",
    "label_encoder.fit(df['SUBTYPE'].unique())\n",
    "\n",
    "takex = lambda _ds: _ds.drop(['SUBTYPE'], axis=1)\n",
    "takey = lambda _ds: to_categorical(label_encoder.transform(_ds['SUBTYPE']))\n",
    "x_train, x_test, x_valid = takex(train_set), takex(test_set), takex(valid_set) \n",
    "y_train, y_test, y_valid = takey(train_set), takey(test_set), takey(valid_set)"
   ]
  },
  {
   "cell_type": "markdown",
   "metadata": {},
   "source": [
    "### Costruzione del modello"
   ]
  },
  {
   "cell_type": "code",
   "execution_count": 19,
   "metadata": {},
   "outputs": [],
   "source": [
    "autoencoder_structure = ae.biased_autoencoder(nclasses).get('SubBIA')"
   ]
  },
  {
   "cell_type": "code",
   "execution_count": 20,
   "metadata": {},
   "outputs": [],
   "source": [
    "enc = autoencoder_structure.get('encoder')\n",
    "clf = autoencoder_structure.get('classifier')\n",
    "SubBIA = ae.generate_biased_autoencoder(nfeatures, enc, clf)"
   ]
  },
  {
   "cell_type": "code",
   "execution_count": 21,
   "metadata": {},
   "outputs": [
    {
     "name": "stdout",
     "output_type": "stream",
     "text": [
      "Epoch 1/2\n",
      "5/5 [==============================] - 12s 2s/step - loss: 2.0871 - accuracy: 0.2536 - val_loss: 2.0054 - val_accuracy: 0.1283\n",
      "Epoch 2/2\n",
      "5/5 [==============================] - 9s 2s/step - loss: 1.5704 - accuracy: 0.4007 - val_loss: 1.9167 - val_accuracy: 0.2401\n"
     ]
    },
    {
     "data": {
      "image/png": "[encoded data removed]",
      "text/plain": [
       "<Figure size 432x288 with 1 Axes>"
      ]
     },
     "metadata": {
      "needs_background": "light"
     },
     "output_type": "display_data"
    }
   ],
   "source": [
    "from keras.callbacks import EarlyStopping\n",
    "\n",
    "earlystopping = EarlyStopping(monitor='val_loss',\\\n",
    "                              verbose=1, patience=40,\\\n",
    "                              restore_best_weights=True)\n",
    "\n",
    "SubBIA_history = SubBIA.fit(np.asarray(x_train).astype(np.float32), y_train,\n",
    "            epochs=2, \n",
    "            batch_size=256,\n",
    "            shuffle=True,\n",
    "            verbose=1,\n",
    "            callbacks=[earlystopping],\n",
    "            validation_data=(np.asarray(x_test).astype(np.float32), y_test))\n",
    "\n",
    "postprocess.plot_history(SubBIA_history)"
   ]
  },
  {
   "cell_type": "markdown",
   "metadata": {},
   "source": [
    "### Valutazione del modello SubBIA"
   ]
  },
  {
   "cell_type": "code",
   "execution_count": 23,
   "metadata": {},
   "outputs": [
    {
     "data": {
      "text/plain": [
       "(1.9652329683303833, 0.19473683834075928)"
      ]
     },
     "execution_count": 23,
     "metadata": {},
     "output_type": "execute_result"
    }
   ],
   "source": [
    "loss, acc = SubBIA.evaluate(np.asarray(x_valid).astype(np.float32), y_valid, verbose=0)\n",
    "loss, acc"
   ]
  },
  {
   "cell_type": "markdown",
   "metadata": {},
   "source": [
    "### Salvataggio dei dataset compressi"
   ]
  },
  {
   "cell_type": "code",
   "execution_count": 25,
   "metadata": {},
   "outputs": [],
   "source": [
    "encpos = autoencoder_structure.get('encoder_position')\n",
    "\n",
    "ds = df.drop('SUBTYPE', axis=1)\n",
    "\n",
    "enc150f = ae.extract_encoder(SubBIA, encpos.get(150))\n",
    "red_ds_150 = pd.DataFrame(enc150f.predict(np.asarray(ds).astype('float32')))\n",
    "red_ds_150.index = ds.index\n",
    "\n",
    "enc50f = ae.extract_encoder(SubBIA, encpos.get(50))\n",
    "red_ds_50 = pd.DataFrame(enc50f.predict(np.asarray(ds).astype('float32')))\n",
    "red_ds_50.index = ds.index\n",
    "\n",
    "enc25f = ae.extract_encoder(SubBIA, encpos.get(25))\n",
    "red_ds_25 = pd.DataFrame(enc25f.predict(np.asarray(ds).astype('float32')))\n",
    "red_ds_25.index = ds.index"
   ]
  },
  {
   "cell_type": "code",
   "execution_count": 30,
   "metadata": {},
   "outputs": [],
   "source": [
    "postprocess.save_compressed_dataset(red_ds_150, loss, results_directory, dataset_file)\n",
    "postprocess.save_compressed_dataset(red_ds_50,  loss, results_directory, dataset_file)\n",
    "postprocess.save_compressed_dataset(red_ds_25,  loss, results_directory, dataset_file)"
   ]
  }
 ],
 "metadata": {
  "kernelspec": {
   "display_name": "Python 3",
   "language": "python",
   "name": "python3"
  },
  "language_info": {
   "codemirror_mode": {
    "name": "ipython",
    "version": 3
   },
   "file_extension": ".py",
   "mimetype": "text/x-python",
   "name": "python",
   "nbconvert_exporter": "python",
   "pygments_lexer": "ipython3",
   "version": "3.8.5"
  }
 },
 "nbformat": 4,
 "nbformat_minor": 4
}
